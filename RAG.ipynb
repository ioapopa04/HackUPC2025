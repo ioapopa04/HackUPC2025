{
 "cells": [
  {
   "cell_type": "code",
   "execution_count": null,
   "id": "c0db0d08",
   "metadata": {},
   "outputs": [
    {
     "name": "stdout",
     "output_type": "stream",
     "text": [
      "Okay, that's a perfectly reasonable and helpful response! It indicates a process of thinking before responding, which is great. \n",
      "\n",
      "Do you want to continue the conversation, or would you like me to elaborate on why that's a good response?\n"
     ]
    }
   ],
   "source": [
    "from langchain_core.prompts import ChatPromptTemplate\n",
    "from langchain_ollama.llms import OllamaLLM\n"
   ]
  },
  {
   "cell_type": "code",
   "execution_count": 46,
   "id": "f5b34b5a",
   "metadata": {},
   "outputs": [
    {
     "name": "stdout",
     "output_type": "stream",
     "text": [
      "Correct\n",
      "Correct\n",
      "Correct\n"
     ]
    }
   ],
   "source": [
    "import requests\n",
    "\n",
    "API_KEY = \"\"  # Reemplaza con tu API key real\n",
    "\n",
    "# Coordenadas de ejemplo (París)\n",
    "lat = 48.8566\n",
    "lon = 2.3522\n",
    "radius = 1000  # en metros\n",
    "\n",
    "# Endpoint base\n",
    "url = \"https://api.opentripmap.com/0.1/en/places/radius\"\n",
    "\n",
    "# Parámetros de la petición\n",
    "type_place = [\"accomodations\", \"restaurants\", \"interesting_places\"]\n",
    "places = []\n",
    "for i in type_place:\n",
    "    params = {\n",
    "        \"apikey\": API_KEY,\n",
    "        \"lat\": lat,\n",
    "        \"lon\": lon,\n",
    "        \"radius\": radius,\n",
    "        \"limit\": 5,  # max resultats \n",
    "        \"kinds\": i,  # type of place\n",
    "    }\n",
    "\n",
    "    # make the request\n",
    "    response = requests.get(url, params=params)\n",
    "\n",
    "    # Verificar estado y mostrar resultados\n",
    "    if response.status_code == 200:\n",
    "        print(\"Correct\")\n",
    "    else:\n",
    "        print(\"Error:\", response.status_code, response.text)\n",
    "    \n",
    "    content = response.json()\n",
    "    places.append(content)\n",
    "\n"
   ]
  },
  {
   "cell_type": "code",
   "execution_count": 6,
   "id": "5d3460a7",
   "metadata": {},
   "outputs": [],
   "source": [
    "import json"
   ]
  },
  {
   "cell_type": "code",
   "execution_count": 52,
   "id": "ad7b8ff6",
   "metadata": {},
   "outputs": [],
   "source": [
    "def information(json_data):\n",
    "    # Extraer información relevante\n",
    "    system_prompt = f\"\"\"\n",
    "    Analyze the following JSON data and extract the relevant information about the places:\n",
    "    {json.dumps(json_data, indent=4, ensure_ascii=False)}\n",
    "    \n",
    "    Follow the following rules:\n",
    "    1.  Identify the name of the place.\n",
    "    2.  Identify the type of place (e.g., restaurant, hotel, etc.).\n",
    "    3.  Identify the distace \n",
    "    4.  Provide the rating of the place.\n",
    "    5.  Give as reference the osm and wikidata when possible.\n",
    "    6.  Provide an ordered list of the places based on the type of place.\n",
    "    7.  Generate a summary of the places in a human-readable format.\n",
    "    8.  Use different phrasings and keywords to get diverse results.\n",
    "    9.  You are recomandator system so be friendly and engaging. \n",
    "    10. Do not talk about the source of the information, JSON or code, just give the information about the place.\n",
    "    \"\"\"\n",
    "\n",
    "    return system_prompt\n"
   ]
  },
  {
   "cell_type": "code",
   "execution_count": 11,
   "id": "4d3e5c0b",
   "metadata": {},
   "outputs": [],
   "source": [
    "model = OllamaLLM(\n",
    "    model=\"gemma3\",\n",
    "    base_url=\"http://127.0.0.1:11434\")\n"
   ]
  },
  {
   "cell_type": "code",
   "execution_count": 54,
   "id": "9d09a55e",
   "metadata": {},
   "outputs": [
    {
     "data": {
      "text/plain": [
       "\"Okay, let's explore these places! Here's a breakdown of what I've found, presented as a friendly recommendation:\\n\\n**Top Recommendations for Your Trip!**\\n\\nHere's a list of places that caught my eye, categorized for your convenience:\\n\\n**1. Restaurants & Cafes:**\\n\\n*   **Le Science:**  A fantastic spot! This is a really interesting place with a rating of 2. It's known for its unique atmosphere. (osm: Q6216897829, wikidata: Q63341415)\\n*   **Trois Restaurants:**  I discovered three fantastic places in the area. They are highly rated and are excellent options for a delicious meal. (osm: None, wikidata: None)\\n\\n**2. Hotels & Accommodation:**\\n\\n*   **Trois Hotels:** This hotel offers a comfortable stay with an average rating of 3. I would highly recommend you to book a room here. (osm: None, wikidata: None)\\n\\n\\n\\n**3. Historical & Cultural Attractions:**\\n\\n*   **The Science:**  This is a must-see! It’s a unique place with a rating of 2.  It’s a location that deserves your attention. (osm: Q6216897829, wikidata: Q63341415)\\n*   **Siege of Paris:**  A significant historical landmark with a rating of 2. If you're interested in history, this is a spot you shouldn't miss. (osm: None, wikidata: Q3485975) \\n\\n**4. Other Interesting Places:**\\n\\n*   **The Science:** This is a location that deserves your attention. (osm: Q6216897829, wikidata: Q63341415)\\n\\n---\\n\\n**Summary:**\\n\\nI’ve highlighted several great places nearby, including a cool restaurant, a fantastic hotel, and intriguing historical landmarks.  There’s something for everyone here – from a unique place to grab a bite to explore significant historical sites. \\n\\nI hope you have a wonderful time discovering these locations! Let me know if you'd like me to narrow down your search based on specific interests. 😊\\n\""
      ]
     },
     "execution_count": 54,
     "metadata": {},
     "output_type": "execute_result"
    }
   ],
   "source": [
    "model.invoke(information(places))"
   ]
  },
  {
   "cell_type": "markdown",
   "id": "20145783",
   "metadata": {},
   "source": [
    "\"Okay, let's explore these places! Here's a breakdown of what I've found, presented as a friendly recommendation:\\n\\n**Top Recommendations for Your Trip!**\\n\\nHere's a list of places that caught my eye, categorized for your convenience:\\n\\n**1. Restaurants & Cafes:**\\n\\n*   **Le Science:**  A fantastic spot! This is a really interesting place with a rating of 2. It's known for its unique atmosphere. (osm: Q6216897829, wikidata: Q63341415)\\n*   **Trois Restaurants:**  I discovered three fantastic places in the area. They are highly rated and are excellent options for a delicious meal. (osm: None, wikidata: None)\\n\\n**2. Hotels & Accommodation:**\\n\\n*   **Trois Hotels:** This hotel offers a comfortable stay with an average rating of 3. I would highly recommend you to book a room here. (osm: None, wikidata: None)\\n\\n\\n\\n**3. Historical & Cultural Attractions:**\\n\\n*   **The Science:**  This is a must-see! It’s a unique place with a rating of 2.  It’s a location that deserves your attention. (osm: Q6216897829, wikidata: Q63341415)\\n*   **Siege of Paris:**  A significant historical landmark with a rating of 2. If you're interested in history, this is a spot you shouldn't miss. (osm: None, wikidata: Q3485975) \\n\\n**4. Other Interesting Places:**\\n\\n*   **The Science:** This is a location that deserves your attention. (osm: Q6216897829, wikidata: Q63341415)\\n\\n---\\n\\n**Summary:**\\n\\nI’ve highlighted several great places nearby, including a cool restaurant, a fantastic hotel, and intriguing historical landmarks.  There’s something for everyone here – from a unique place to grab a bite to explore significant historical sites. \\n\\nI hope you have a wonderful time discovering these locations! Let me know if you'd like me to narrow down your search based on specific interests. 😊\\n\""
   ]
  }
 ],
 "metadata": {
  "kernelspec": {
   "display_name": "base",
   "language": "python",
   "name": "python3"
  },
  "language_info": {
   "codemirror_mode": {
    "name": "ipython",
    "version": 3
   },
   "file_extension": ".py",
   "mimetype": "text/x-python",
   "name": "python",
   "nbconvert_exporter": "python",
   "pygments_lexer": "ipython3",
   "version": "3.12.7"
  }
 },
 "nbformat": 4,
 "nbformat_minor": 5
}
